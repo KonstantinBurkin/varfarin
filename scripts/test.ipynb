{
 "cells": [
  {
   "cell_type": "code",
   "execution_count": null,
   "metadata": {},
   "outputs": [],
   "source": [
    "# %pip install pandas\n",
    "# %pip install openpyxl"
   ]
  },
  {
   "cell_type": "code",
   "execution_count": null,
   "metadata": {},
   "outputs": [],
   "source": []
  },
  {
   "cell_type": "code",
   "execution_count": 4,
   "metadata": {},
   "outputs": [],
   "source": [
    "import pandas as pd\n",
    "import numpy as np\n"
   ]
  },
  {
   "cell_type": "code",
   "execution_count": 33,
   "metadata": {},
   "outputs": [
    {
     "data": {
      "text/html": [
       "<div>\n",
       "<style scoped>\n",
       "    .dataframe tbody tr th:only-of-type {\n",
       "        vertical-align: middle;\n",
       "    }\n",
       "\n",
       "    .dataframe tbody tr th {\n",
       "        vertical-align: top;\n",
       "    }\n",
       "\n",
       "    .dataframe thead th {\n",
       "        text-align: right;\n",
       "    }\n",
       "</style>\n",
       "<table border=\"1\" class=\"dataframe\">\n",
       "  <thead>\n",
       "    <tr style=\"text-align: right;\">\n",
       "      <th></th>\n",
       "      <th>МНО</th>\n",
       "      <th>Текущая доза</th>\n",
       "      <th>Назаначения</th>\n",
       "      <th>Пометки</th>\n",
       "    </tr>\n",
       "    <tr>\n",
       "      <th>Дата</th>\n",
       "      <th></th>\n",
       "      <th></th>\n",
       "      <th></th>\n",
       "      <th></th>\n",
       "    </tr>\n",
       "  </thead>\n",
       "  <tbody>\n",
       "    <tr>\n",
       "      <th>2022-03-03 00:00:00</th>\n",
       "      <td>NaN</td>\n",
       "      <td>NaN</td>\n",
       "      <td>NaN</td>\n",
       "      <td>NaN</td>\n",
       "    </tr>\n",
       "    <tr>\n",
       "      <th>2022-03-09 00:00:00</th>\n",
       "      <td>1.8</td>\n",
       "      <td>2 ¼ т.</td>\n",
       "      <td>2 ¼ т./2 ½ т. варфарина</td>\n",
       "      <td>NaN</td>\n",
       "    </tr>\n",
       "    <tr>\n",
       "      <th>NaN</th>\n",
       "      <td>NaN</td>\n",
       "      <td>варфарина</td>\n",
       "      <td>2022-03-09 00:00:00</td>\n",
       "      <td>NaN</td>\n",
       "    </tr>\n",
       "    <tr>\n",
       "      <th>NaN</th>\n",
       "      <td>NaN</td>\n",
       "      <td>NaN</td>\n",
       "      <td>Ларина Инна Валерьевна</td>\n",
       "      <td>NaN</td>\n",
       "    </tr>\n",
       "    <tr>\n",
       "      <th>NaN</th>\n",
       "      <td>NaN</td>\n",
       "      <td>NaN</td>\n",
       "      <td>NaN</td>\n",
       "      <td>NaN</td>\n",
       "    </tr>\n",
       "  </tbody>\n",
       "</table>\n",
       "</div>"
      ],
      "text/plain": [
       "                     МНО Текущая доза              Назаначения Пометки\n",
       "Дата                                                                  \n",
       "2022-03-03 00:00:00  NaN          NaN                      NaN     NaN\n",
       "2022-03-09 00:00:00  1.8       2 ¼ т.  2 ¼ т./2 ½ т. варфарина     NaN\n",
       "NaN                  NaN    варфарина      2022-03-09 00:00:00     NaN\n",
       "NaN                  NaN          NaN   Ларина Инна Валерьевна     NaN\n",
       "NaN                  NaN          NaN                      NaN     NaN"
      ]
     },
     "execution_count": 33,
     "metadata": {},
     "output_type": "execute_result"
    }
   ],
   "source": [
    "df = pd.read_excel('../raw data/Book1.xlsx', header=0, index_col=0)\n",
    "df.head(5)"
   ]
  },
  {
   "cell_type": "code",
   "execution_count": 25,
   "metadata": {},
   "outputs": [
    {
     "data": {
      "text/plain": [
       "Index(['Дата', 'МНО', 'Текущая доза', 'Назаначения', 'Пометки'], dtype='object')"
      ]
     },
     "execution_count": 25,
     "metadata": {},
     "output_type": "execute_result"
    }
   ],
   "source": [
    "df.columns\n",
    "# .iloc[1,2]"
   ]
  },
  {
   "cell_type": "code",
   "execution_count": 72,
   "metadata": {},
   "outputs": [],
   "source": [
    "not_empty = (pd.read_excel('../raw data/Book1.xlsx')['МНО'] != 'МНО').values & \\\n",
    "~ pd.read_excel('../raw data/Book1.xlsx')['МНО'].isna().values\n"
   ]
  },
  {
   "cell_type": "code",
   "execution_count": 77,
   "metadata": {},
   "outputs": [
    {
     "data": {
      "text/html": [
       "<div>\n",
       "<style scoped>\n",
       "    .dataframe tbody tr th:only-of-type {\n",
       "        vertical-align: middle;\n",
       "    }\n",
       "\n",
       "    .dataframe tbody tr th {\n",
       "        vertical-align: top;\n",
       "    }\n",
       "\n",
       "    .dataframe thead th {\n",
       "        text-align: right;\n",
       "    }\n",
       "</style>\n",
       "<table border=\"1\" class=\"dataframe\">\n",
       "  <thead>\n",
       "    <tr style=\"text-align: right;\">\n",
       "      <th></th>\n",
       "      <th>МНО</th>\n",
       "      <th>Текущая доза</th>\n",
       "      <th>Назаначения</th>\n",
       "      <th>Пометки</th>\n",
       "    </tr>\n",
       "    <tr>\n",
       "      <th>Дата</th>\n",
       "      <th></th>\n",
       "      <th></th>\n",
       "      <th></th>\n",
       "      <th></th>\n",
       "    </tr>\n",
       "  </thead>\n",
       "  <tbody>\n",
       "    <tr>\n",
       "      <th>2022-03-09 00:00:00</th>\n",
       "      <td>1.8</td>\n",
       "      <td>2 ¼ т.</td>\n",
       "      <td>2 ¼ т./2 ½ т. варфарина</td>\n",
       "      <td>NaN</td>\n",
       "    </tr>\n",
       "    <tr>\n",
       "      <th>2022-04-06 00:00:00</th>\n",
       "      <td>1.4</td>\n",
       "      <td>2 ¼ т.</td>\n",
       "      <td>2 ½ т. варфарина</td>\n",
       "      <td>Продолжал принимать 2.25 таб беседа проведена....</td>\n",
       "    </tr>\n",
       "    <tr>\n",
       "      <th>2022-04-13 00:00:00</th>\n",
       "      <td>1.8</td>\n",
       "      <td>2 ½ т.</td>\n",
       "      <td>2 ½ т./2 ¾ т.</td>\n",
       "      <td>NaN</td>\n",
       "    </tr>\n",
       "    <tr>\n",
       "      <th>2022-05-04 00:00:00</th>\n",
       "      <td>2.8</td>\n",
       "      <td>2 ½ т.</td>\n",
       "      <td>2 ½ т. варфарина</td>\n",
       "      <td>Продолжал принимать 2.5 таб</td>\n",
       "    </tr>\n",
       "    <tr>\n",
       "      <th>2022-06-01 00:00:00</th>\n",
       "      <td>1.8</td>\n",
       "      <td>2 ¼ т.</td>\n",
       "      <td>NaN</td>\n",
       "      <td>NaN</td>\n",
       "    </tr>\n",
       "  </tbody>\n",
       "</table>\n",
       "</div>"
      ],
      "text/plain": [
       "                     МНО Текущая доза              Назаначения  \\\n",
       "Дата                                                             \n",
       "2022-03-09 00:00:00  1.8       2 ¼ т.  2 ¼ т./2 ½ т. варфарина   \n",
       "2022-04-06 00:00:00  1.4       2 ¼ т.         2 ½ т. варфарина   \n",
       "2022-04-13 00:00:00  1.8       2 ½ т.            2 ½ т./2 ¾ т.   \n",
       "2022-05-04 00:00:00  2.8       2 ½ т.         2 ½ т. варфарина   \n",
       "2022-06-01 00:00:00  1.8       2 ¼ т.                      NaN   \n",
       "\n",
       "                                                               Пометки  \n",
       "Дата                                                                    \n",
       "2022-03-09 00:00:00                                                NaN  \n",
       "2022-04-06 00:00:00  Продолжал принимать 2.25 таб беседа проведена....  \n",
       "2022-04-13 00:00:00                                                NaN  \n",
       "2022-05-04 00:00:00                        Продолжал принимать 2.5 таб  \n",
       "2022-06-01 00:00:00                                                NaN  "
      ]
     },
     "execution_count": 77,
     "metadata": {},
     "output_type": "execute_result"
    }
   ],
   "source": [
    "short_df = df.iloc[not_empty, :].copy()\n",
    "short_df.head()"
   ]
  },
  {
   "cell_type": "code",
   "execution_count": 78,
   "metadata": {},
   "outputs": [
    {
     "data": {
      "text/plain": [
       "Дата\n",
       "2022-03-09 00:00:00                     2 ¼ т.\n",
       "2022-04-06 00:00:00                     2 ¼ т.\n",
       "2022-04-13 00:00:00                     2 ½ т.\n",
       "2022-05-04 00:00:00                     2 ½ т.\n",
       "2022-06-01 00:00:00                     2 ¼ т.\n",
       "2022-06-29 00:00:00    2 ¼ т./2 ½ т. варфарина\n",
       "2022-07-27 00:00:00    2 ½ т./2 ¼ т. варфарина\n",
       "2022-08-24 00:00:00    2 ½ т./2 ¼ т. варфарина\n",
       "2022-09-21 00:00:00    2 ¼ т./2 ½ т. варфарина\n",
       "2022-10-19 00:00:00    2 ½ т./2 ¼ т. варфарина\n",
       "2022-11-30 00:00:00                     2 ¼ т.\n",
       "2022-12-28 00:00:00                     2 ½ т.\n",
       "2023-01-25 00:00:00                     2 ½ т.\n",
       "2023-03-01 00:00:00                     2 ½ т.\n",
       "2023-04-05 00:00:00                     2 ½ т.\n",
       "2023-04-26 00:00:00                     2 ½ т.\n",
       "2023-05-24 00:00:00                     2 ½ т.\n",
       "2023-06-21 00:00:00    2 ½ т./2 ¾ т. варфарина\n",
       "2023-07-19 00:00:00    2 ½ т./2 ¾ т. варфарина\n",
       "Name: Текущая доза, dtype: object"
      ]
     },
     "execution_count": 78,
     "metadata": {},
     "output_type": "execute_result"
    }
   ],
   "source": [
    "short_df['Текущая доза']"
   ]
  },
  {
   "cell_type": "code",
   "execution_count": null,
   "metadata": {},
   "outputs": [],
   "source": []
  }
 ],
 "metadata": {
  "kernelspec": {
   "display_name": "env",
   "language": "python",
   "name": "python3"
  },
  "language_info": {
   "codemirror_mode": {
    "name": "ipython",
    "version": 3
   },
   "file_extension": ".py",
   "mimetype": "text/x-python",
   "name": "python",
   "nbconvert_exporter": "python",
   "pygments_lexer": "ipython3",
   "version": "3.9.12"
  },
  "orig_nbformat": 4
 },
 "nbformat": 4,
 "nbformat_minor": 2
}
